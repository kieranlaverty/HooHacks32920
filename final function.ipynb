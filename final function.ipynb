{
 "cells": [
  {
   "cell_type": "code",
   "execution_count": 1,
   "metadata": {},
   "outputs": [
    {
     "name": "stdout",
     "output_type": "stream",
     "text": [
      "2910860.9962850264\n"
     ]
    },
    {
     "name": "stderr",
     "output_type": "stream",
     "text": [
      "c:\\users\\kiera\\appdata\\local\\programs\\python\\python37\\lib\\site-packages\\sklearn\\externals\\joblib\\__init__.py:15: FutureWarning: sklearn.externals.joblib is deprecated in 0.21 and will be removed in 0.23. Please import this functionality directly from joblib, which can be installed with: pip install joblib. If this warning is raised when loading pickled models, you may need to re-serialize those models with scikit-learn 0.21+.\n",
      "  warnings.warn(msg, category=FutureWarning)\n"
     ]
    }
   ],
   "source": [
    "'''Data was pulled form the US Census Data and John Hopkins University github\n",
    "https://www.census.gov/data-tools/demo/saipe/#/expandedTable?map_geoSelector=aa_c&s_year=2018&s_state=01,02,04,05,06,08,09,10,11,12,13,15,16,17,18,19,20,21,22,23,24,25,26,27,28,29,30,31,32,33,34,35,36,37,38,39,40,41,42,44,45,46,47,48,49,50,51,53,54,55,56\n",
    "https://www2.census.gov/programs-surveys/popest/datasets/2010-2019/counties/totals/\n",
    "https://coronavirus.jhu.edu/map.html\n",
    "'''\n",
    "import numpy as np\n",
    "import pandas as pd\n",
    "from sklearn.externals import joblib\n",
    "state= 'Alabama'\n",
    "county='Bibb County'\n",
    "poppovByCounty = pd.read_csv('NewCSV.csv')\n",
    "popCorona = pd.read_csv(\"result.csv\")\n",
    "\n",
    "model_load = joblib.load('saved_model.pkl') \n",
    "\n",
    "statedf = poppovByCounty.loc[poppovByCounty['State'] == state]\n",
    "countydf = statedf.loc[statedf['County'] == county]\n",
    "coronadf = popCorona.loc[popCorona['State'] == state]\n",
    "population = float(countydf.iloc[0,3])\n",
    "povertyPercent = float(countydf.iloc[0,4])/100\n",
    "Coronacases = float(coronadf.iloc[0,1])\n",
    "cases = [[Coronacases]]\n",
    "cases = model_load.predict(cases)\n",
    "cases = float(cases[0][0])\n",
    "cases\n",
    "peopleinpov = (povertyPercent * population)\n",
    "\n",
    "print(cases * peopleinpov)"
   ]
  }
 ],
 "metadata": {
  "kernelspec": {
   "display_name": "Python 3",
   "language": "python",
   "name": "python3"
  },
  "language_info": {
   "codemirror_mode": {
    "name": "ipython",
    "version": 3
   },
   "file_extension": ".py",
   "mimetype": "text/x-python",
   "name": "python",
   "nbconvert_exporter": "python",
   "pygments_lexer": "ipython3",
   "version": "3.7.6"
  }
 },
 "nbformat": 4,
 "nbformat_minor": 4
}
